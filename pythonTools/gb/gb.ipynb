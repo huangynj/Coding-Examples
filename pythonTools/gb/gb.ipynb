{
 "cells": [
  {
   "cell_type": "code",
   "execution_count": 7,
   "metadata": {
    "collapsed": false
   },
   "outputs": [],
   "source": [
    "%matplotlib inline\n",
    "\n",
    "import matplotlib\n",
    "import numpy as np\n",
    "import matplotlib.pyplot as plt\n",
    "import datetime\n",
    "import csv\n"
   ]
  },
  {
   "cell_type": "code",
   "execution_count": 8,
   "metadata": {
    "collapsed": false
   },
   "outputs": [
    {
     "name": "stdout",
     "output_type": "stream",
     "text": [
      "['Type', 'Value', 'Unit', 'Name', 'Event', 'Date Time', 'Notes']\n",
      "['BG', '234.0', 'mg/dL', '', 'Out Of Bed', '12/14/2015 07:44:56', '']\n",
      "['BG', '295.0', 'mg/dL', '', 'After Breakfast', '12/14/2015 10:00:21', '']\n",
      "['BG', '272.0', 'mg/dL', '', 'Before Dinner', '12/14/2015 18:25:44', '']\n",
      "['BG', '358.0', 'mg/dL', '', 'After Dinner', '12/14/2015 20:52:51', '']\n",
      "['BG', '269.0', 'mg/dL', '', 'Out Of Bed', '12/15/2015 07:47:26', '']\n",
      "['BG', '208.0', 'mg/dL', '', 'Before Dinner', '12/15/2015 17:01:02', '']\n",
      "['BG', '268.0', 'mg/dL', '', 'Out Of Bed', '12/16/2015 07:02:19', '']\n",
      "['BG', '247.0', 'mg/dL', '', 'Before Lunch', '12/16/2015 11:33:22', '']\n",
      "['BG', '246.0', 'mg/dL', '', 'After Lunch', '12/16/2015 13:08:35', '']\n",
      "['A', '25.0', 'minutes', 'simple workout', 'After Lunch', '12/16/2015 16:13:59', '']\n",
      "['WT', '183.2', 'pounds', '', 'After Lunch', '12/16/2015 16:13:59', '']\n",
      "['BG', '204.0', 'mg/dL', '', 'Before Dinner', '12/16/2015 17:52:45', '']\n",
      "['BG', '277.0', 'mg/dL', '', 'Out Of Bed', '12/17/2015 06:45:58', '']\n",
      "['A', '25.0', 'minutes', 'simple workout', 'After Lunch', '12/17/2015 16:09:12', '']\n",
      "['WT', '185.2', 'pounds', '', 'After Lunch', '12/17/2015 16:09:12', '']\n",
      "['BG', '253.0', 'mg/dL', '', 'Before Dinner', '12/17/2015 18:12:57', '']\n",
      "['BG', '269.0', 'mg/dL', '', 'Out Of Bed', '12/18/2015 06:48:31', '']\n",
      "['A', '25.0', 'minutes', 'simple workout', 'After Lunch', '12/18/2015 15:11:43', '']\n",
      "['WT', '184.2', 'pounds', '', 'After Lunch', '12/18/2015 15:11:43', '']\n",
      "['BG', '261.0', 'mg/dL', '', 'Out Of Bed', '12/19/2015 09:52:36', '']\n",
      "['BG', '421.0', 'mg/dL', '', 'Before Dinner', '12/19/2015 17:53:39', '']\n",
      "['BG', '398.0', 'mg/dL', '', 'After Dinner', '12/19/2015 20:51:19', '']\n",
      "['BG', '252.0', 'mg/dL', '', 'Out Of Bed', '12/20/2015 08:50:37', '2 metformin last night']\n",
      "['A', '120.0', 'minutes', 'snowboarding', 'Before Dinner', '12/20/2015 16:10:46', '']\n",
      "['BG', '225.0', 'mg/dL', '', 'Before Dinner', '12/20/2015 18:31:44', 'no lunch']\n",
      "['BG', '333.0', 'mg/dL', '', 'After Dinner', '12/20/2015 21:31:20', '2 met at 6']\n",
      "['BG', '324.0', 'mg/dL', '', 'Out Of Bed', '12/21/2015 07:38:50', '']\n",
      "['A', '25.0', 'minutes', 'simple workout', 'After Lunch', '12/21/2015 16:02:47', '']\n",
      "['WT', '183.2', 'pounds', '', 'After Lunch', '12/21/2015 16:02:47', '']\n",
      "['BG', '270.0', 'mg/dL', '', 'Before Lunch', '12/22/2015 11:59:09', '']\n",
      "['BG', '243.0', 'mg/dL', '', 'Out Of Bed', '12/23/2015 08:46:04', '']\n",
      "['A', '25.0', 'minutes', 'simple workout', 'After Lunch', '12/23/2015 16:08:31', '']\n",
      "['WT', '184.0', 'pounds', '', 'After Lunch', '12/23/2015 16:08:31', '']\n",
      "['BG', '239.0', 'mg/dL', '', 'Out Of Bed', '12/24/2015 09:21:20', '']\n",
      "['BG', '332.0', 'mg/dL', '', 'Before Dinner', '12/24/2015 18:28:38', '']\n",
      "['BG', '324.0', 'mg/dL', '', 'Before Bed', '12/24/2015 22:01:37', '']\n",
      "['BG', '278.0', 'mg/dL', '', 'Out Of Bed', '12/25/2015 07:53:42', '']\n",
      "['A', '180.0', 'minutes', 'snowboarding', 'After Breakfast', '12/26/2015 14:15:58', '']\n",
      "['BG', '257.0', 'mg/dL', '', 'Before Dinner', '12/26/2015 18:16:56', '']\n",
      "['BG', '276.0', 'mg/dL', '', 'Out Of Bed', '12/27/2015 09:02:34', '']\n",
      "['BG', '277.0', 'mg/dL', '', 'Out Of Bed', '12/28/2015 07:38:26', '']\n",
      "['BG', '278.0', 'mg/dL', '', 'Before Lunch', '12/28/2015 12:16:38', '']\n",
      "['BG', '372.0', 'mg/dL', '', 'Before Dinner', '12/28/2015 17:50:31', '']\n",
      "['M', '1.2', 'units', 'glyburide', 'Before Dinner', '12/28/2015 19:16:07', '']\n",
      "['M', '1000.0', 'units', 'metformin', 'Before Dinner', '12/28/2015 19:16:07', '']\n",
      "['BG', '254.0', 'mg/dL', '', 'Out Of Bed', '12/29/2015 08:16:03', '']\n",
      "['M', '2.5', 'units', 'glyburide', 'Before Breakfast', '12/29/2015 08:25:38', '']\n",
      "['M', '1000.0', 'units', 'metformin', 'Before Breakfast', '12/29/2015 08:25:38', '']\n",
      "['BG', '245.0', 'mg/dL', '', 'Before Lunch', '12/29/2015 11:53:11', '']\n",
      "['WT', '182.2', 'pounds', '', 'After Lunch', '12/29/2015 15:55:45', '']\n",
      "['A', '25.0', 'minutes', 'simple workout', 'Before Dinner', '12/29/2015 16:18:51', '']\n",
      "['BG', '361.0', 'mg/dL', '', 'Before Dinner', '12/29/2015 17:20:38', '']\n",
      "['M', '1000.0', 'units', 'metformin', 'Before Dinner', '12/29/2015 18:43:13', '']\n",
      "['M', '2.5', 'units', 'glyburide', 'Before Dinner', '12/29/2015 18:43:13', '']\n",
      "['BG', '307.0', 'mg/dL', '', 'After Dinner', '12/29/2015 20:14:38', '']\n",
      "['BG', '266.0', 'mg/dL', '', 'Before Bed', '12/29/2015 22:12:12', '']\n",
      "['BG', '229.0', 'mg/dL', '', 'Out Of Bed', '12/30/2015 07:24:26', '']\n",
      "['M', '1000.0', 'units', 'metformin', 'Before Breakfast', '12/30/2015 08:30:20', '']\n",
      "['M', '2.5', 'units', 'glyburide', 'Before Breakfast', '12/30/2015 08:30:20', '']\n",
      "['BG', '330.0', 'mg/dL', '', 'After Lunch', '12/30/2015 14:06:26', 'imediately']\n",
      "['M', '1.2', 'units', 'glyburide', 'After Lunch', '12/30/2015 14:07:43', '']\n",
      "['BG', '271.0', 'mg/dL', '', 'After Lunch', '12/30/2015 16:06:22', '']\n",
      "['M', '2.5', 'units', 'glyburide', 'Before Dinner', '12/30/2015 18:59:41', '']\n",
      "['M', '1000.0', 'units', 'metformin', 'Before Dinner', '12/30/2015 18:59:41', '']\n",
      "['BG', '281.0', 'mg/dL', '', 'After Dinner', '12/30/2015 21:49:07', '']\n",
      "['BG', '258.0', 'mg/dL', '', 'Out Of Bed', '12/31/2015 09:38:15', '']\n",
      "['M', '3.7', 'units', 'glyburide', 'Before Breakfast', '12/31/2015 10:03:09', '']\n",
      "['M', '1000.0', 'units', 'metformin', 'Before Breakfast', '12/31/2015 10:03:09', '']\n",
      "['BG', '245.0', 'mg/dL', '', 'Before Lunch', '12/31/2015 14:20:17', '']\n",
      "['BG', '308.0', 'mg/dL', '', 'After Lunch', '12/31/2015 16:15:04', '']\n",
      "['M', '3.7', 'units', 'glyburide', 'Before Dinner', '12/31/2015 18:48:33', '']\n",
      "['M', '1000.0', 'units', 'metformin', 'Before Dinner', '12/31/2015 18:48:33', '']\n",
      "['BG', '314.0', 'mg/dL', '', 'After Dinner', '12/31/2015 22:32:29', '']\n",
      "['BG', '225.0', 'mg/dL', '', 'Out Of Bed', '01/01/2016 09:11:15', '']\n",
      "['M', '3.7', 'units', 'glyburide', 'Before Breakfast', '01/01/2016 09:46:51', '']\n",
      "['M', '1000.0', 'units', 'metformin', 'Before Breakfast', '01/01/2016 09:46:51', '']\n",
      "['BG', '251.0', 'mg/dL', '', 'Before Lunch', '01/01/2016 12:37:56', '']\n",
      "['BG', '354.0', 'mg/dL', '', 'Before Dinner', '01/01/2016 18:43:14', '']\n",
      "['M', '3.7', 'units', 'glyburide', 'Before Dinner', '01/01/2016 18:43:14', '']\n",
      "['M', '1000.0', 'units', 'metformin', 'Before Dinner', '01/01/2016 18:43:14', '']\n",
      "['BG', '402.0', 'mg/dL', '', 'After Dinner', '01/01/2016 19:34:00', '']\n",
      "['BG', '340.0', 'mg/dL', '', 'After Dinner', '01/01/2016 20:47:50', '']\n",
      "['BG', '258.0', 'mg/dL', '', 'Before Breakfast', '01/02/2016 11:01:38', '']\n",
      "['M', '5.0', 'units', 'glyburide', 'Before Breakfast', '01/02/2016 11:01:38', '']\n",
      "['M', '1000.0', 'units', 'metformin', 'Before Breakfast', '01/02/2016 11:01:38', '']\n",
      "['BG', '394.0', 'mg/dL', '', 'Before Dinner', '01/02/2016 19:11:59', '']\n",
      "['M', '5.0', 'units', 'glyburide', 'Before Dinner', '01/02/2016 19:14:02', '']\n",
      "['M', '1000.0', 'units', 'metformin', 'Before Dinner', '01/02/2016 19:14:02', '']\n",
      "['BG', '348.0', 'mg/dL', '', 'Before Bed', '01/02/2016 21:59:19', '']\n",
      "['BG', '210.0', 'mg/dL', '', 'Out Of Bed', '01/03/2016 10:12:22', '']\n",
      "['M', '5.0', 'units', 'glyburide', 'Before Breakfast', '01/03/2016 11:04:33', '']\n",
      "['M', '1000.0', 'units', 'metformin', 'Before Breakfast', '01/03/2016 11:04:33', '']\n",
      "['BG', '267.0', 'mg/dL', '', 'Before Lunch', '01/03/2016 13:44:04', '']\n",
      "['M', '2.5', 'units', 'glyburide', 'Before Lunch', '01/03/2016 13:44:04', '']\n",
      "['BG', '323.0', 'mg/dL', '', 'After Lunch', '01/03/2016 16:23:20', 'burger at lunch only']\n",
      "['BG', '271.0', 'mg/dL', '', 'Before Dinner', '01/03/2016 19:51:00', '']\n",
      "['M', '5.0', 'units', 'glyburide', 'Before Dinner', '01/03/2016 19:51:00', '']\n",
      "['M', '1000.0', 'units', 'metformin', 'Before Dinner', '01/03/2016 19:51:00', '']\n",
      "['BG', '213.0', 'mg/dL', '', 'Out Of Bed', '01/04/2016 07:25:42', '']\n",
      "['M', '5.0', 'units', 'glyburide', 'Before Breakfast', '01/04/2016 08:25:13', '']\n",
      "['M', '1000.0', 'units', 'metformin', 'Before Breakfast', '01/04/2016 08:25:13', '']\n",
      "['BG', '282.0', 'mg/dL', '', 'Before Lunch', '01/04/2016 11:14:16', '']\n",
      "['BG', '242.0', 'mg/dL', '', 'Before Lunch', '01/04/2016 12:11:20', '']\n",
      "['M', '2.5', 'units', 'glyburide', 'Before Lunch', '01/04/2016 12:12:08', '']\n"
     ]
    }
   ],
   "source": [
    "f=open('/Users/srinathv/Downloads/MyExportedGlucoseBuddyLogs.csv')\n",
    "for row in csv.reader(f):\n",
    "    print row"
   ]
  },
  {
   "cell_type": "code",
   "execution_count": null,
   "metadata": {
    "collapsed": true
   },
   "outputs": [],
   "source": []
  }
 ],
 "metadata": {
  "kernelspec": {
   "display_name": "Python 2",
   "language": "python",
   "name": "python2"
  },
  "language_info": {
   "codemirror_mode": {
    "name": "ipython",
    "version": 2
   },
   "file_extension": ".py",
   "mimetype": "text/x-python",
   "name": "python",
   "nbconvert_exporter": "python",
   "pygments_lexer": "ipython2",
   "version": "2.7.11"
  }
 },
 "nbformat": 4,
 "nbformat_minor": 0
}
